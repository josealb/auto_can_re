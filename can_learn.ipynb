{
 "cells": [
  {
   "cell_type": "code",
   "execution_count": 2,
   "metadata": {},
   "outputs": [],
   "source": [
    "import pandas as pd\n",
    "import numpy as np\n",
    "%matplotlib inline\n",
    "import matplotlib.pyplot as plt\n",
    "from os import listdir"
   ]
  },
  {
   "cell_type": "code",
   "execution_count": 3,
   "metadata": {},
   "outputs": [],
   "source": [
    "import tensorflow as tf\n",
    "from tensorflow.keras.preprocessing import sequence\n",
    "from tensorflow.keras.models import Sequential\n",
    "from tensorflow.keras.layers import Dense\n",
    "from tensorflow.keras.layers import LSTM\n",
    "\n",
    "from tensorflow.keras.optimizers import Adam\n",
    "from tensorflow.keras.models import load_model\n",
    "from tensorflow.keras.callbacks import ModelCheckpoint"
   ]
  },
  {
   "cell_type": "code",
   "execution_count": 4,
   "metadata": {},
   "outputs": [],
   "source": [
    "file_list=[\n",
    "    {\n",
    "        \"vehicle_name\": \"Chrysler Pacifica 2018\",\n",
    "        \"dbc_name\": \"opendbc/chrysler_pacifica_2017_hybrid.dbc\",\n",
    "        \"steer_brake_acc\": [258, 284, 308],\n",
    "        \"file_name\": \"exported_csvs/6fb4948a7ebe670e_2019-11-12--00-35-53.bz2.csv\"\n",
    "    },\n",
    "    {\n",
    "        \"vehicle_name\": \"Toyota Prius Prime 2020\",\n",
    "        \"dbc_name\": \"opendbc/toyota_prius_2017_pt_generated.dbc\",\n",
    "        \"steer_brake_acc\": [37, 166, 581], # acc input looks strange\n",
    "        \"file_name\": \"exported_csvs/eb378db0873da597_2020-02-29--11-50-42--0--rlog.bz2.csv\"\n",
    "    },\n",
    "    {\n",
    "        \"vehicle_name\": \"Acura ILX\",\n",
    "        \"dbc_name\": \"opendbc/acura_ilx_2016_can_generated.dbc\",\n",
    "        \"steer_brake_acc\": [342, 420, 304], # acc input looks strange\n",
    "        \"file_name\": \"exported_csvs/rlog.bz2.csv\"\n",
    "    },    \n",
    "]"
   ]
  },
  {
   "cell_type": "code",
   "execution_count": 5,
   "metadata": {},
   "outputs": [],
   "source": [
    "file_path = \"exported_csvs/rlog.bz2.csv\"\n",
    "sequences = list()\n",
    "df = pd.read_csv(file_path, header=0)\n",
    "values = df.values"
   ]
  },
  {
   "cell_type": "code",
   "execution_count": 6,
   "metadata": {},
   "outputs": [
    {
     "data": {
      "text/plain": [
       "10882"
      ]
     },
     "execution_count": 6,
     "metadata": {},
     "output_type": "execute_result"
    }
   ],
   "source": [
    "len(values)"
   ]
  },
  {
   "cell_type": "code",
   "execution_count": 7,
   "metadata": {},
   "outputs": [],
   "source": [
    "targets = np.ones(len(values))*342"
   ]
  },
  {
   "cell_type": "code",
   "execution_count": 8,
   "metadata": {},
   "outputs": [
    {
     "data": {
      "text/plain": [
       "array([342., 342., 342., ..., 342., 342., 342.])"
      ]
     },
     "execution_count": 8,
     "metadata": {},
     "output_type": "execute_result"
    }
   ],
   "source": [
    "targets"
   ]
  },
  {
   "cell_type": "code",
   "execution_count": 12,
   "metadata": {},
   "outputs": [
    {
     "data": {
      "text/html": [
       "<div>\n",
       "<style scoped>\n",
       "    .dataframe tbody tr th:only-of-type {\n",
       "        vertical-align: middle;\n",
       "    }\n",
       "\n",
       "    .dataframe tbody tr th {\n",
       "        vertical-align: top;\n",
       "    }\n",
       "\n",
       "    .dataframe thead th {\n",
       "        text-align: right;\n",
       "    }\n",
       "</style>\n",
       "<table border=\"1\" class=\"dataframe\">\n",
       "  <thead>\n",
       "    <tr style=\"text-align: right;\">\n",
       "      <th></th>\n",
       "      <th>145</th>\n",
       "      <th>342</th>\n",
       "      <th>398</th>\n",
       "      <th>399</th>\n",
       "      <th>819</th>\n",
       "      <th>821</th>\n",
       "      <th>304</th>\n",
       "      <th>316</th>\n",
       "      <th>344</th>\n",
       "      <th>380</th>\n",
       "      <th>...</th>\n",
       "      <th>888</th>\n",
       "      <th>923</th>\n",
       "      <th>773</th>\n",
       "      <th>985</th>\n",
       "      <th>929</th>\n",
       "      <th>1034</th>\n",
       "      <th>1029</th>\n",
       "      <th>1064</th>\n",
       "      <th>1365</th>\n",
       "      <th>busTime</th>\n",
       "    </tr>\n",
       "  </thead>\n",
       "  <tbody>\n",
       "    <tr>\n",
       "      <th>0</th>\n",
       "      <td>9234147259396915846</td>\n",
       "      <td>0.000000e+00</td>\n",
       "      <td>0.0</td>\n",
       "      <td>0.000000e+00</td>\n",
       "      <td>0.0</td>\n",
       "      <td>0.000000e+00</td>\n",
       "      <td>0.000000e+00</td>\n",
       "      <td>0.0</td>\n",
       "      <td>0.000000e+00</td>\n",
       "      <td>0.000000e+00</td>\n",
       "      <td>...</td>\n",
       "      <td>0.000000e+00</td>\n",
       "      <td>0.0</td>\n",
       "      <td>0.000000e+00</td>\n",
       "      <td>0.0</td>\n",
       "      <td>0.0</td>\n",
       "      <td>0.0</td>\n",
       "      <td>0.000000e+00</td>\n",
       "      <td>0.0</td>\n",
       "      <td>0.0</td>\n",
       "      <td>4285779475863</td>\n",
       "    </tr>\n",
       "    <tr>\n",
       "      <th>1</th>\n",
       "      <td>9234147259396915861</td>\n",
       "      <td>2.813075e+14</td>\n",
       "      <td>524387.0</td>\n",
       "      <td>1.583297e+14</td>\n",
       "      <td>60.0</td>\n",
       "      <td>5.131052e+11</td>\n",
       "      <td>1.055000e+03</td>\n",
       "      <td>1043.0</td>\n",
       "      <td>1.120986e+12</td>\n",
       "      <td>3.758113e+12</td>\n",
       "      <td>...</td>\n",
       "      <td>0.000000e+00</td>\n",
       "      <td>0.0</td>\n",
       "      <td>0.000000e+00</td>\n",
       "      <td>0.0</td>\n",
       "      <td>0.0</td>\n",
       "      <td>0.0</td>\n",
       "      <td>0.000000e+00</td>\n",
       "      <td>0.0</td>\n",
       "      <td>0.0</td>\n",
       "      <td>4285784902738</td>\n",
       "    </tr>\n",
       "    <tr>\n",
       "      <th>2</th>\n",
       "      <td>9234147259396915861</td>\n",
       "      <td>2.813075e+14</td>\n",
       "      <td>524402.0</td>\n",
       "      <td>1.583297e+14</td>\n",
       "      <td>60.0</td>\n",
       "      <td>5.131052e+11</td>\n",
       "      <td>1.055000e+03</td>\n",
       "      <td>1043.0</td>\n",
       "      <td>1.120986e+12</td>\n",
       "      <td>3.758113e+12</td>\n",
       "      <td>...</td>\n",
       "      <td>0.000000e+00</td>\n",
       "      <td>0.0</td>\n",
       "      <td>0.000000e+00</td>\n",
       "      <td>0.0</td>\n",
       "      <td>0.0</td>\n",
       "      <td>0.0</td>\n",
       "      <td>0.000000e+00</td>\n",
       "      <td>0.0</td>\n",
       "      <td>0.0</td>\n",
       "      <td>4285790760186</td>\n",
       "    </tr>\n",
       "    <tr>\n",
       "      <th>3</th>\n",
       "      <td>9234147259396915861</td>\n",
       "      <td>2.813075e+14</td>\n",
       "      <td>524402.0</td>\n",
       "      <td>1.638272e+14</td>\n",
       "      <td>60.0</td>\n",
       "      <td>5.131052e+11</td>\n",
       "      <td>1.070000e+03</td>\n",
       "      <td>1058.0</td>\n",
       "      <td>1.357210e+12</td>\n",
       "      <td>3.758113e+12</td>\n",
       "      <td>...</td>\n",
       "      <td>0.000000e+00</td>\n",
       "      <td>0.0</td>\n",
       "      <td>0.000000e+00</td>\n",
       "      <td>0.0</td>\n",
       "      <td>0.0</td>\n",
       "      <td>0.0</td>\n",
       "      <td>0.000000e+00</td>\n",
       "      <td>0.0</td>\n",
       "      <td>0.0</td>\n",
       "      <td>4285796476905</td>\n",
       "    </tr>\n",
       "    <tr>\n",
       "      <th>4</th>\n",
       "      <td>9234147259396915876</td>\n",
       "      <td>2.813075e+14</td>\n",
       "      <td>524357.0</td>\n",
       "      <td>1.550311e+14</td>\n",
       "      <td>60.0</td>\n",
       "      <td>5.131052e+11</td>\n",
       "      <td>1.085000e+03</td>\n",
       "      <td>1058.0</td>\n",
       "      <td>1.357210e+12</td>\n",
       "      <td>3.758113e+12</td>\n",
       "      <td>...</td>\n",
       "      <td>0.000000e+00</td>\n",
       "      <td>0.0</td>\n",
       "      <td>0.000000e+00</td>\n",
       "      <td>0.0</td>\n",
       "      <td>0.0</td>\n",
       "      <td>0.0</td>\n",
       "      <td>0.000000e+00</td>\n",
       "      <td>0.0</td>\n",
       "      <td>0.0</td>\n",
       "      <td>4285801909249</td>\n",
       "    </tr>\n",
       "    <tr>\n",
       "      <th>...</th>\n",
       "      <td>...</td>\n",
       "      <td>...</td>\n",
       "      <td>...</td>\n",
       "      <td>...</td>\n",
       "      <td>...</td>\n",
       "      <td>...</td>\n",
       "      <td>...</td>\n",
       "      <td>...</td>\n",
       "      <td>...</td>\n",
       "      <td>...</td>\n",
       "      <td>...</td>\n",
       "      <td>...</td>\n",
       "      <td>...</td>\n",
       "      <td>...</td>\n",
       "      <td>...</td>\n",
       "      <td>...</td>\n",
       "      <td>...</td>\n",
       "      <td>...</td>\n",
       "      <td>...</td>\n",
       "      <td>...</td>\n",
       "      <td>...</td>\n",
       "    </tr>\n",
       "    <tr>\n",
       "      <th>10877</th>\n",
       "      <td>9232951025206296631</td>\n",
       "      <td>2.812860e+14</td>\n",
       "      <td>524312.0</td>\n",
       "      <td>7.160020e+16</td>\n",
       "      <td>60.0</td>\n",
       "      <td>4.958246e+11</td>\n",
       "      <td>7.262130e+16</td>\n",
       "      <td>1073.0</td>\n",
       "      <td>8.755000e+03</td>\n",
       "      <td>3.990041e+12</td>\n",
       "      <td>...</td>\n",
       "      <td>1.284195e+18</td>\n",
       "      <td>16.0</td>\n",
       "      <td>1.099512e+14</td>\n",
       "      <td>32775.0</td>\n",
       "      <td>771751976.0</td>\n",
       "      <td>265.0</td>\n",
       "      <td>5.770237e+17</td>\n",
       "      <td>1558317.0</td>\n",
       "      <td>9.0</td>\n",
       "      <td>4345729928132</td>\n",
       "    </tr>\n",
       "    <tr>\n",
       "      <th>10878</th>\n",
       "      <td>9232951025189519371</td>\n",
       "      <td>2.812860e+14</td>\n",
       "      <td>524312.0</td>\n",
       "      <td>7.160130e+16</td>\n",
       "      <td>60.0</td>\n",
       "      <td>4.958246e+11</td>\n",
       "      <td>7.290278e+16</td>\n",
       "      <td>1028.0</td>\n",
       "      <td>8.710000e+03</td>\n",
       "      <td>3.990041e+12</td>\n",
       "      <td>...</td>\n",
       "      <td>1.284195e+18</td>\n",
       "      <td>16.0</td>\n",
       "      <td>1.099512e+14</td>\n",
       "      <td>32775.0</td>\n",
       "      <td>771751976.0</td>\n",
       "      <td>265.0</td>\n",
       "      <td>5.770237e+17</td>\n",
       "      <td>1558317.0</td>\n",
       "      <td>9.0</td>\n",
       "      <td>4345735204643</td>\n",
       "    </tr>\n",
       "    <tr>\n",
       "      <th>10879</th>\n",
       "      <td>9232951025189519371</td>\n",
       "      <td>2.812860e+14</td>\n",
       "      <td>524327.0</td>\n",
       "      <td>7.160130e+16</td>\n",
       "      <td>60.0</td>\n",
       "      <td>4.958246e+11</td>\n",
       "      <td>7.290278e+16</td>\n",
       "      <td>1028.0</td>\n",
       "      <td>8.710000e+03</td>\n",
       "      <td>3.990041e+12</td>\n",
       "      <td>...</td>\n",
       "      <td>1.284195e+18</td>\n",
       "      <td>16.0</td>\n",
       "      <td>1.099512e+14</td>\n",
       "      <td>32775.0</td>\n",
       "      <td>771751976.0</td>\n",
       "      <td>265.0</td>\n",
       "      <td>5.770237e+17</td>\n",
       "      <td>1558317.0</td>\n",
       "      <td>9.0</td>\n",
       "      <td>4345740926934</td>\n",
       "    </tr>\n",
       "    <tr>\n",
       "      <th>10880</th>\n",
       "      <td>9232951025189519371</td>\n",
       "      <td>2.812860e+14</td>\n",
       "      <td>524327.0</td>\n",
       "      <td>7.159360e+16</td>\n",
       "      <td>60.0</td>\n",
       "      <td>4.958246e+11</td>\n",
       "      <td>7.290278e+16</td>\n",
       "      <td>1043.0</td>\n",
       "      <td>8.725000e+03</td>\n",
       "      <td>3.998631e+12</td>\n",
       "      <td>...</td>\n",
       "      <td>1.284195e+18</td>\n",
       "      <td>47.0</td>\n",
       "      <td>1.099512e+14</td>\n",
       "      <td>32775.0</td>\n",
       "      <td>771751976.0</td>\n",
       "      <td>265.0</td>\n",
       "      <td>5.770237e+17</td>\n",
       "      <td>1558317.0</td>\n",
       "      <td>9.0</td>\n",
       "      <td>4345746924226</td>\n",
       "    </tr>\n",
       "    <tr>\n",
       "      <th>10881</th>\n",
       "      <td>9232951025189519386</td>\n",
       "      <td>2.812860e+14</td>\n",
       "      <td>524342.0</td>\n",
       "      <td>7.158261e+16</td>\n",
       "      <td>60.0</td>\n",
       "      <td>4.958246e+11</td>\n",
       "      <td>7.262130e+16</td>\n",
       "      <td>1058.0</td>\n",
       "      <td>8.740000e+03</td>\n",
       "      <td>3.998631e+12</td>\n",
       "      <td>...</td>\n",
       "      <td>1.284195e+18</td>\n",
       "      <td>47.0</td>\n",
       "      <td>1.099512e+14</td>\n",
       "      <td>32775.0</td>\n",
       "      <td>771751976.0</td>\n",
       "      <td>265.0</td>\n",
       "      <td>5.770237e+17</td>\n",
       "      <td>1558317.0</td>\n",
       "      <td>9.0</td>\n",
       "      <td>4345752236882</td>\n",
       "    </tr>\n",
       "  </tbody>\n",
       "</table>\n",
       "<p>10882 rows × 81 columns</p>\n",
       "</div>"
      ],
      "text/plain": [
       "                       145           342       398           399   819  \\\n",
       "0      9234147259396915846  0.000000e+00       0.0  0.000000e+00   0.0   \n",
       "1      9234147259396915861  2.813075e+14  524387.0  1.583297e+14  60.0   \n",
       "2      9234147259396915861  2.813075e+14  524402.0  1.583297e+14  60.0   \n",
       "3      9234147259396915861  2.813075e+14  524402.0  1.638272e+14  60.0   \n",
       "4      9234147259396915876  2.813075e+14  524357.0  1.550311e+14  60.0   \n",
       "...                    ...           ...       ...           ...   ...   \n",
       "10877  9232951025206296631  2.812860e+14  524312.0  7.160020e+16  60.0   \n",
       "10878  9232951025189519371  2.812860e+14  524312.0  7.160130e+16  60.0   \n",
       "10879  9232951025189519371  2.812860e+14  524327.0  7.160130e+16  60.0   \n",
       "10880  9232951025189519371  2.812860e+14  524327.0  7.159360e+16  60.0   \n",
       "10881  9232951025189519386  2.812860e+14  524342.0  7.158261e+16  60.0   \n",
       "\n",
       "                821           304     316           344           380  ...  \\\n",
       "0      0.000000e+00  0.000000e+00     0.0  0.000000e+00  0.000000e+00  ...   \n",
       "1      5.131052e+11  1.055000e+03  1043.0  1.120986e+12  3.758113e+12  ...   \n",
       "2      5.131052e+11  1.055000e+03  1043.0  1.120986e+12  3.758113e+12  ...   \n",
       "3      5.131052e+11  1.070000e+03  1058.0  1.357210e+12  3.758113e+12  ...   \n",
       "4      5.131052e+11  1.085000e+03  1058.0  1.357210e+12  3.758113e+12  ...   \n",
       "...             ...           ...     ...           ...           ...  ...   \n",
       "10877  4.958246e+11  7.262130e+16  1073.0  8.755000e+03  3.990041e+12  ...   \n",
       "10878  4.958246e+11  7.290278e+16  1028.0  8.710000e+03  3.990041e+12  ...   \n",
       "10879  4.958246e+11  7.290278e+16  1028.0  8.710000e+03  3.990041e+12  ...   \n",
       "10880  4.958246e+11  7.290278e+16  1043.0  8.725000e+03  3.998631e+12  ...   \n",
       "10881  4.958246e+11  7.262130e+16  1058.0  8.740000e+03  3.998631e+12  ...   \n",
       "\n",
       "                888   923           773      985          929   1034  \\\n",
       "0      0.000000e+00   0.0  0.000000e+00      0.0          0.0    0.0   \n",
       "1      0.000000e+00   0.0  0.000000e+00      0.0          0.0    0.0   \n",
       "2      0.000000e+00   0.0  0.000000e+00      0.0          0.0    0.0   \n",
       "3      0.000000e+00   0.0  0.000000e+00      0.0          0.0    0.0   \n",
       "4      0.000000e+00   0.0  0.000000e+00      0.0          0.0    0.0   \n",
       "...             ...   ...           ...      ...          ...    ...   \n",
       "10877  1.284195e+18  16.0  1.099512e+14  32775.0  771751976.0  265.0   \n",
       "10878  1.284195e+18  16.0  1.099512e+14  32775.0  771751976.0  265.0   \n",
       "10879  1.284195e+18  16.0  1.099512e+14  32775.0  771751976.0  265.0   \n",
       "10880  1.284195e+18  47.0  1.099512e+14  32775.0  771751976.0  265.0   \n",
       "10881  1.284195e+18  47.0  1.099512e+14  32775.0  771751976.0  265.0   \n",
       "\n",
       "               1029       1064  1365        busTime  \n",
       "0      0.000000e+00        0.0   0.0  4285779475863  \n",
       "1      0.000000e+00        0.0   0.0  4285784902738  \n",
       "2      0.000000e+00        0.0   0.0  4285790760186  \n",
       "3      0.000000e+00        0.0   0.0  4285796476905  \n",
       "4      0.000000e+00        0.0   0.0  4285801909249  \n",
       "...             ...        ...   ...            ...  \n",
       "10877  5.770237e+17  1558317.0   9.0  4345729928132  \n",
       "10878  5.770237e+17  1558317.0   9.0  4345735204643  \n",
       "10879  5.770237e+17  1558317.0   9.0  4345740926934  \n",
       "10880  5.770237e+17  1558317.0   9.0  4345746924226  \n",
       "10881  5.770237e+17  1558317.0   9.0  4345752236882  \n",
       "\n",
       "[10882 rows x 81 columns]"
      ]
     },
     "execution_count": 12,
     "metadata": {},
     "output_type": "execute_result"
    }
   ],
   "source": [
    "df"
   ]
  },
  {
   "cell_type": "code",
   "execution_count": 112,
   "metadata": {},
   "outputs": [],
   "source": [
    "from random import randint\n",
    "\n",
    "#This function creates the dataset for training the net\n",
    "# It extracts snippets from the df dataframe above\n",
    "\n",
    "def create_X_y(df, num_samples, sample_length):\n",
    "    X = np.zeros([num_samples, sample_length])\n",
    "    y = np.zeros(num_samples)\n",
    "    for i in range(num_samples):\n",
    "        # Randomly choose which signal to write from\n",
    "        signal_index = randint(0,df.shape[1]-1)\n",
    "        chunk = []\n",
    "        #print(signal_index)\n",
    "        starting_point = randint(0,df.shape[0]-sample_length)\n",
    "        \n",
    "        for j in range(sample_length):\n",
    "            # Since signal is very long, only a snippet is taken\n",
    "            X[i][j] = df.iat[j,signal_index]\n",
    "            \n",
    "        # Now create label based on what signal id we saved from    \n",
    "        if df.columns[signal_index] == \"342\": #steering value for acura ilx\n",
    "            np.append(y,1)\n",
    "            y[i]=1\n",
    "        else:\n",
    "            y[i]=0\n",
    "    return [X,y]\n",
    "    \n",
    "\n",
    "X, y = create_X_y(df, 1000, 100)\n"
   ]
  },
  {
   "cell_type": "code",
   "execution_count": 113,
   "metadata": {},
   "outputs": [
    {
     "data": {
      "text/plain": [
       "81"
      ]
     },
     "execution_count": 113,
     "metadata": {},
     "output_type": "execute_result"
    }
   ],
   "source": [
    "df.shape[1]"
   ]
  },
  {
   "cell_type": "code",
   "execution_count": 114,
   "metadata": {},
   "outputs": [
    {
     "data": {
      "text/plain": [
       "'342'"
      ]
     },
     "execution_count": 114,
     "metadata": {},
     "output_type": "execute_result"
    }
   ],
   "source": [
    "df.columns[1]"
   ]
  },
  {
   "cell_type": "code",
   "execution_count": 115,
   "metadata": {},
   "outputs": [
    {
     "name": "stdout",
     "output_type": "stream",
     "text": [
      "(1000, 100)\n"
     ]
    }
   ],
   "source": [
    "print(X.shape)"
   ]
  },
  {
   "cell_type": "code",
   "execution_count": 116,
   "metadata": {},
   "outputs": [
    {
     "data": {
      "text/plain": [
       "(1000,)"
      ]
     },
     "execution_count": 116,
     "metadata": {},
     "output_type": "execute_result"
    }
   ],
   "source": [
    "y.shape"
   ]
  },
  {
   "cell_type": "code",
   "execution_count": null,
   "metadata": {},
   "outputs": [],
   "source": []
  },
  {
   "cell_type": "code",
   "execution_count": null,
   "metadata": {},
   "outputs": [],
   "source": []
  },
  {
   "cell_type": "code",
   "execution_count": null,
   "metadata": {},
   "outputs": [],
   "source": []
  },
  {
   "cell_type": "code",
   "execution_count": 9,
   "metadata": {},
   "outputs": [],
   "source": [
    "from sklearn.model_selection import train_test_split\n"
   ]
  },
  {
   "cell_type": "code",
   "execution_count": 10,
   "metadata": {},
   "outputs": [],
   "source": [
    "X_train, X_test, y_train, y_test = train_test_split(values, targets, test_size=0.2)"
   ]
  },
  {
   "cell_type": "code",
   "execution_count": 11,
   "metadata": {},
   "outputs": [
    {
     "data": {
      "text/plain": [
       "8705"
      ]
     },
     "execution_count": 11,
     "metadata": {},
     "output_type": "execute_result"
    }
   ],
   "source": [
    "len(X_train)"
   ]
  },
  {
   "cell_type": "code",
   "execution_count": 48,
   "metadata": {},
   "outputs": [
    {
     "ename": "NameError",
     "evalue": "name 'seq_len' is not defined",
     "output_type": "error",
     "traceback": [
      "\u001b[0;31m---------------------------------------------------------------------------\u001b[0m",
      "\u001b[0;31mNameError\u001b[0m                                 Traceback (most recent call last)",
      "\u001b[0;32m<ipython-input-48-2ea9bba8b19e>\u001b[0m in \u001b[0;36m<module>\u001b[0;34m\u001b[0m\n\u001b[1;32m      1\u001b[0m \u001b[0mmodel\u001b[0m \u001b[0;34m=\u001b[0m \u001b[0mSequential\u001b[0m\u001b[0;34m(\u001b[0m\u001b[0;34m)\u001b[0m\u001b[0;34m\u001b[0m\u001b[0;34m\u001b[0m\u001b[0m\n\u001b[0;32m----> 2\u001b[0;31m \u001b[0mmodel\u001b[0m\u001b[0;34m.\u001b[0m\u001b[0madd\u001b[0m\u001b[0;34m(\u001b[0m\u001b[0mLSTM\u001b[0m\u001b[0;34m(\u001b[0m\u001b[0;36m256\u001b[0m\u001b[0;34m,\u001b[0m \u001b[0minput_shape\u001b[0m\u001b[0;34m=\u001b[0m\u001b[0;34m(\u001b[0m\u001b[0mseq_len\u001b[0m\u001b[0;34m,\u001b[0m \u001b[0;36m4\u001b[0m\u001b[0;34m)\u001b[0m\u001b[0;34m)\u001b[0m\u001b[0;34m)\u001b[0m\u001b[0;34m\u001b[0m\u001b[0;34m\u001b[0m\u001b[0m\n\u001b[0m\u001b[1;32m      3\u001b[0m \u001b[0mmodel\u001b[0m\u001b[0;34m.\u001b[0m\u001b[0madd\u001b[0m\u001b[0;34m(\u001b[0m\u001b[0mDense\u001b[0m\u001b[0;34m(\u001b[0m\u001b[0;36m1\u001b[0m\u001b[0;34m,\u001b[0m \u001b[0mactivation\u001b[0m\u001b[0;34m=\u001b[0m\u001b[0;34m\"sigmoid\"\u001b[0m\u001b[0;34m)\u001b[0m\u001b[0;34m)\u001b[0m\u001b[0;34m\u001b[0m\u001b[0;34m\u001b[0m\u001b[0m\n",
      "\u001b[0;31mNameError\u001b[0m: name 'seq_len' is not defined"
     ]
    }
   ],
   "source": [
    "# FIXME: Prepare sequence somehow and adapt LSTM model to fit it\n",
    "model = Sequential()\n",
    "model.add(LSTM(256, input_shape=(seq_len, 4)))\n",
    "model.add(Dense(1, activation=\"sigmoid\"))"
   ]
  },
  {
   "cell_type": "code",
   "execution_count": null,
   "metadata": {},
   "outputs": [],
   "source": []
  }
 ],
 "metadata": {
  "kernelspec": {
   "display_name": "Python 3",
   "language": "python",
   "name": "python3"
  },
  "language_info": {
   "codemirror_mode": {
    "name": "ipython",
    "version": 3
   },
   "file_extension": ".py",
   "mimetype": "text/x-python",
   "name": "python",
   "nbconvert_exporter": "python",
   "pygments_lexer": "ipython3",
   "version": "3.7.3"
  }
 },
 "nbformat": 4,
 "nbformat_minor": 4
}
